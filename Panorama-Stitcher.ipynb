{
 "cells": [
  {
   "cell_type": "code",
   "execution_count": 149,
   "metadata": {},
   "outputs": [],
   "source": [
    "import cv2\n",
    "import re\n",
    "import os\n",
    "import numpy as np\n",
    "from statistics import median"
   ]
  },
  {
   "cell_type": "code",
   "execution_count": 132,
   "metadata": {},
   "outputs": [],
   "source": [
    "nImages = None\n",
    "imageSetNumber = 5\n",
    "kFirstMatches = 2\n",
    "\n",
    "nKeyPointsInitial = 5000\n",
    "goodMatchRatio = 0.7\n",
    "\n",
    "histogramEqualizationWIndowSize = (2,2)"
   ]
  },
  {
   "cell_type": "code",
   "execution_count": 133,
   "metadata": {},
   "outputs": [],
   "source": [
    "imageSetPath = \"./In-Sample/\"+str(imageSetNumber)+\"/\"\n",
    "\n",
    "images = [ cv2.imread((imageSetPath+image)) for image in os.listdir(imageSetPath)]\n",
    "nImages = len(images)\n",
    "# for i in range(len(images)) :\n",
    "#     images[i] = cv2.cvtColor(images[i], cv2.COLOR_RGB2GRAY)\n"
   ]
  },
  {
   "cell_type": "code",
   "execution_count": 134,
   "metadata": {},
   "outputs": [],
   "source": [
    "def getOrdering(images):\n",
    "    \n",
    "    bf = cv2.BFMatcher(cv2.NORM_HAMMING, crossCheck = False)\n",
    "    orb = cv2.ORB_create(nfeatures=nKeyPointsInitial)\n",
    "    splitImages = []\n",
    "    for image in images:\n",
    "        cols = len(image[0])\n",
    "        splitImages.append(image[:,0:(cols//2),:])\n",
    "        splitImages.append(image[:,(cols//2):cols,:])\n",
    "    \n",
    "    images = splitImages\n",
    "    nImages=len(images)\n",
    "    \n",
    "    cv2.imwrite(\"log0.jpg\",splitImages[0])\n",
    "    cv2.imwrite(\"log1.jpg\",splitImages[1])\n",
    "    \n",
    "    \n",
    "    \n",
    "    maxIndices = None, None\n",
    "    maxMatches = []\n",
    "    \n",
    "    matchDictionary = {}\n",
    "    for i in range(nImages):\n",
    "        matchDictionary[i] = {}\n",
    "    \n",
    "    keypoints = []\n",
    "    descriptors = []\n",
    "    \n",
    "    for image in images :\n",
    "        keypoints_orb, descriptors_orb = orb.detectAndCompute(image, None)\n",
    "        keypoints.append(keypoints_orb)\n",
    "        descriptors.append(descriptors_orb)\n",
    "    \n",
    "    \n",
    "    \n",
    "    for i in range(nImages):\n",
    "        print(\"\\n\")\n",
    "        for j in range(i+1,nImages):\n",
    "            matches = bf.knnMatch(descriptors[i], descriptors[j], k=kFirstMatches)\n",
    "            matches = selectGoodMatches(matches)\n",
    "            matchDictionary[i][j] = matches\n",
    "            matchDictionary[j][i] = matches\n",
    "            print(i,j,len(matchDictionary[i][j]))\n",
    "        \n",
    "            \n",
    "    \n",
    "    \n",
    "    imageClusters = [[2*i, 2*i+1] for i in range(nImages//2)]\n",
    "    \n",
    "    for n in range(len(imageClusters),1,-1):\n",
    "        \n",
    "        closestClusters = None, None\n",
    "        maxMatch = 0\n",
    "        \n",
    "        print(imageClusters)\n",
    "        for i in range(len(imageClusters)):\n",
    "            img1 = imageClusters[i][-1]\n",
    "            for j in range(len(imageClusters)):\n",
    "                if(i!=j):\n",
    "                    img2 = imageClusters[j][0]\n",
    "                    if(len(matchDictionary[img1][img2])>maxMatch):\n",
    "                        maxMatch = len(matchDictionary[img1][img2])\n",
    "                        closestClusters = i, j\n",
    "        print(closestClusters)\n",
    "        ind1, ind2 = closestClusters\n",
    "        imageClusters[ind1]+=imageClusters[ind2]\n",
    "        del imageClusters[ind2]\n",
    "    \n",
    "    returnIndices = [imageClusters[0][i]//2 for i in range(0,len(imageClusters[0]),2)]\n",
    "            \n",
    "    return returnIndices, matchDictionary"
   ]
  },
  {
   "cell_type": "code",
   "execution_count": 135,
   "metadata": {},
   "outputs": [],
   "source": [
    "def selectGoodMatches(matches):\n",
    "    # Apply ratio test\n",
    "    good = []\n",
    "    for m in matches:\n",
    "        if m[0].distance < goodMatchRatio*m[1].distance:\n",
    "            good.append(m)\n",
    "    matches = np.asarray(good)\n",
    "    return matches"
   ]
  },
  {
   "cell_type": "code",
   "execution_count": 136,
   "metadata": {},
   "outputs": [],
   "source": [
    "def rgbEqualize(img):\n",
    "    img_yuv = cv2.cvtColor(img, cv2.COLOR_BGR2YUV)\n",
    "\n",
    "    # equalize the histogram of the Y channel\n",
    "#     img_yuv[:,:,0] = cv2.equalizeHist(img_yuv[:,:,0])\n",
    "\n",
    "    clahe = cv2.createCLAHE(clipLimit=2.0, tileGridSize=histogramEqualizationWIndowSize)\n",
    "    img_yuv[:,:,0] = clahe.apply(img_yuv[:,:,0])\n",
    "    # convert the YUV image back to RGB format\n",
    "    img_output = cv2.cvtColor(img_yuv, cv2.COLOR_YUV2BGR)\n",
    "    return img_output"
   ]
  },
  {
   "cell_type": "code",
   "execution_count": 137,
   "metadata": {},
   "outputs": [],
   "source": [
    "def warpTwoImages(img1, img2, H):\n",
    "    '''warp img2 to img1 with homograph H'''\n",
    "    h1,w1 = img1.shape[:2]\n",
    "    h2,w2 = img2.shape[:2]\n",
    "    pts1 = np.float32([[0,0],[0,h1],[w1,h1],[w1,0]]).reshape(-1,1,2)\n",
    "    pts2 = np.float32([[0,0],[0,h2],[w2,h2],[w2,0]]).reshape(-1,1,2)\n",
    "    pts2_ = cv2.perspectiveTransform(pts2, H)\n",
    "    pts = np.concatenate((pts1, pts2_), axis=0)\n",
    "    [xmin, ymin] = np.int32(pts.min(axis=0).ravel() - 0.5)\n",
    "    [xmax, ymax] = np.int32(pts.max(axis=0).ravel() + 0.5)\n",
    "    t = [-xmin,-ymin]\n",
    "    Ht = np.array([[1,0,t[0]],[0,1,t[1]],[0,0,1]]) # translate\n",
    "\n",
    "    result = cv2.warpPerspective(img2, Ht.dot(H), (xmax-xmin, ymax-ymin))\n",
    "    result[t[1]:h1+t[1],t[0]:w1+t[0]] = img1\n",
    "    return result\n",
    "\n",
    "\n",
    "\n"
   ]
  },
  {
   "cell_type": "code",
   "execution_count": 138,
   "metadata": {},
   "outputs": [],
   "source": [
    "def getHomography(img1, img2):\n",
    "    pass\n",
    "    "
   ]
  },
  {
   "cell_type": "code",
   "execution_count": 139,
   "metadata": {},
   "outputs": [],
   "source": [
    "def warpMultipleImages(img1, img2, matches):\n",
    "    src_pts = np.float32([ keypoints[1][m.queryIdx].pt for m in matches ]).reshape(-1,1,2)\n",
    "    dst_pts = np.float32([ keypoints[2][m.trainIdx].pt for m in matches ]).reshape(-1,1,2)\n",
    "\n",
    "    M, mask = cv2.findHomography(src_pts, dst_pts, cv2.RANSAC,5.0)\n",
    "\n",
    "\n",
    "    result = warpTwoImages(images[2], images[1], M)\n",
    "    result = rgbEqualize(result)\n"
   ]
  },
  {
   "cell_type": "code",
   "execution_count": 140,
   "metadata": {},
   "outputs": [],
   "source": [
    "def writeImages(images):\n",
    "    for i in range(nImages):\n",
    "        cv2.imwrite(\"log\"+str(i)+\".jpg\",images[i])"
   ]
  },
  {
   "cell_type": "code",
   "execution_count": 143,
   "metadata": {},
   "outputs": [],
   "source": [
    "writeImages(images)"
   ]
  },
  {
   "cell_type": "code",
   "execution_count": 153,
   "metadata": {
    "scrolled": true
   },
   "outputs": [
    {
     "data": {
      "text/plain": [
       "7.5"
      ]
     },
     "execution_count": 153,
     "metadata": {},
     "output_type": "execute_result"
    }
   ],
   "source": [
    "def horizontalStitch(images):\n",
    "    stitchOrder, matches = getOrdering(image)\n",
    "\n",
    "a,b = getOrdering(images)\n",
    "\n"
   ]
  },
  {
   "cell_type": "code",
   "execution_count": 146,
   "metadata": {},
   "outputs": [],
   "source": [
    "# cv2.imwrite(\"log2.jpg\",result)"
   ]
  },
  {
   "cell_type": "code",
   "execution_count": null,
   "metadata": {},
   "outputs": [],
   "source": [
    "A = images[2]\n",
    "B = images[1]\n",
    "\n",
    "# generate Gaussian pyramid for A\n",
    "G = A.copy()\n",
    "gpA = [G]\n",
    "\n",
    "\n",
    "for i in range(6):\n",
    "    G = cv2.pyrDown(G)\n",
    "    gpA.append(G)\n",
    "\n",
    "# generate Gaussian pyramid for B\n",
    "G = B.copy()\n",
    "gpB = [G]\n",
    "for i in range(6):\n",
    "    G = cv2.pyrDown(G)\n",
    "    gpB.append(G)\n",
    "\n",
    "# generate Laplacian Pyramid for A\n",
    "lpA = [gpA[5]]\n",
    "for i in range(5,0,-1):\n",
    "    size = (gpA[i].shape[1], gpA[i].shape[0])\n",
    "    GE = cv2.pyrUp(gpA[i], dstsize = size)\n",
    "    print(type(gpB[i-1]), type(GE))\n",
    "    L = np.subtract(gpA[i-1],GE)\n",
    "    lpA.append(L)\n",
    "\n",
    "# generate Laplacian Pyramid for B\n",
    "lpB = [gpB[5]]\n",
    "for i in range(5,0,-1):\n",
    "    \n",
    "    GE = cv2.pyrUp(gpB[i], dstsize = size)\n",
    "    print(type(gpB[i-1]), type(GE))\n",
    "    L = np.subtract(gpB[i-1],GE)\n",
    "    \n",
    "    lpB.append(L)\n",
    "\n",
    "# Now add left and right halves of images in each level\n",
    "LS = []\n",
    "for la,lb in zip(lpA,lpB):\n",
    "    rows,cols,dpt = la.shape\n",
    "    ls = np.hstack((la[:,0:cols/2], lb[:,cols/2:]))\n",
    "    LS.append(ls)\n",
    "\n",
    "# now reconstruct\n",
    "ls_ = LS[0]\n",
    "for i in range(1,6):\n",
    "    ls_ = cv2.pyrUp(ls_)\n",
    "    ls_ = cv2.add(ls_, LS[i])\n",
    "\n",
    "# image with direct connecting each half\n",
    "real = np.hstack((A[:,:cols/2],B[:,cols/2:]))\n",
    "\n",
    "cv2.imwrite('Pyramid_blending2.jpg',ls_)\n",
    "cv2.imwrite('Direct_blending.jpg',real)"
   ]
  },
  {
   "cell_type": "code",
   "execution_count": null,
   "metadata": {},
   "outputs": [],
   "source": []
  },
  {
   "cell_type": "code",
   "execution_count": null,
   "metadata": {},
   "outputs": [],
   "source": []
  },
  {
   "cell_type": "code",
   "execution_count": null,
   "metadata": {},
   "outputs": [],
   "source": []
  }
 ],
 "metadata": {
  "kernelspec": {
   "display_name": "Python 3",
   "language": "python",
   "name": "python3"
  },
  "language_info": {
   "codemirror_mode": {
    "name": "ipython",
    "version": 3
   },
   "file_extension": ".py",
   "mimetype": "text/x-python",
   "name": "python",
   "nbconvert_exporter": "python",
   "pygments_lexer": "ipython3",
   "version": "3.7.2"
  }
 },
 "nbformat": 4,
 "nbformat_minor": 2
}
