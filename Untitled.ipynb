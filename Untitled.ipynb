{
 "cells": [
  {
   "cell_type": "code",
   "execution_count": 1,
   "metadata": {},
   "outputs": [],
   "source": [
    "import cv2\n",
    "import re\n",
    "import os\n",
    "import numpy as np"
   ]
  },
  {
   "cell_type": "code",
   "execution_count": 6,
   "metadata": {},
   "outputs": [
    {
     "name": "stdout",
     "output_type": "stream",
     "text": [
      "<class 'numpy.ndarray'>\n"
     ]
    },
    {
     "data": {
      "text/plain": [
       "array([[[0.15294118, 0.2       , 0.15294118],\n",
       "        [0.16470588, 0.21176471, 0.16470588],\n",
       "        [0.16078431, 0.20784314, 0.16078431],\n",
       "        ...,\n",
       "        [0.14901961, 0.23529412, 0.18823529],\n",
       "        [0.15294118, 0.24705882, 0.2       ],\n",
       "        [0.14509804, 0.23921569, 0.19215686]],\n",
       "\n",
       "       [[0.14901961, 0.19607843, 0.14901961],\n",
       "        [0.15294118, 0.2       , 0.15294118],\n",
       "        [0.16078431, 0.20784314, 0.16078431],\n",
       "        ...,\n",
       "        [0.14509804, 0.23137255, 0.18431373],\n",
       "        [0.15686275, 0.24313725, 0.19607843],\n",
       "        [0.14901961, 0.23529412, 0.18823529]],\n",
       "\n",
       "       [[0.16862745, 0.21568627, 0.16862745],\n",
       "        [0.15686275, 0.20392157, 0.15686275],\n",
       "        [0.16862745, 0.21568627, 0.16862745],\n",
       "        ...,\n",
       "        [0.13333333, 0.20784314, 0.17254902],\n",
       "        [0.12941176, 0.20392157, 0.16862745],\n",
       "        [0.11764706, 0.19215686, 0.15686275]],\n",
       "\n",
       "       ...,\n",
       "\n",
       "       [[0.42352941, 0.73333333, 0.62745098],\n",
       "        [0.43529412, 0.74509804, 0.63921569],\n",
       "        [0.44313725, 0.75294118, 0.64705882],\n",
       "        ...,\n",
       "        [0.94901961, 1.        , 1.        ],\n",
       "        [0.94901961, 0.99607843, 1.        ],\n",
       "        [0.94509804, 0.99607843, 1.        ]],\n",
       "\n",
       "       [[0.42352941, 0.73333333, 0.62745098],\n",
       "        [0.43529412, 0.74509804, 0.63921569],\n",
       "        [0.43921569, 0.74901961, 0.64313725],\n",
       "        ...,\n",
       "        [0.94117647, 1.        , 1.        ],\n",
       "        [0.94509804, 0.99607843, 1.        ],\n",
       "        [0.9372549 , 0.99607843, 1.        ]],\n",
       "\n",
       "       [[0.41960784, 0.72941176, 0.62352941],\n",
       "        [0.43529412, 0.74509804, 0.63921569],\n",
       "        [0.44313725, 0.75294118, 0.64705882],\n",
       "        ...,\n",
       "        [0.9372549 , 0.99607843, 1.        ],\n",
       "        [0.9372549 , 0.99607843, 1.        ],\n",
       "        [0.9372549 , 0.99607843, 1.        ]]])"
      ]
     },
     "execution_count": 6,
     "metadata": {},
     "output_type": "execute_result"
    }
   ],
   "source": [
    "imageSetNumber = 1\n",
    "imageSetPath = \"./In-Sample/\"+str(imageSetNumber)+\"/\"\n",
    "\n",
    "images = [ (imageSetPath+image) for image in os.listdir(imageSetPath)]\n",
    "\n",
    "\n",
    "img = cv2.imread(images[0])\n",
    "print(type(img))\n",
    "\n",
    "cv2.imshow('img', img)"
   ]
  },
  {
   "cell_type": "code",
   "execution_count": null,
   "metadata": {},
   "outputs": [],
   "source": []
  },
  {
   "cell_type": "code",
   "execution_count": null,
   "metadata": {},
   "outputs": [],
   "source": []
  }
 ],
 "metadata": {
  "kernelspec": {
   "display_name": "Python 3",
   "language": "python",
   "name": "python3"
  },
  "language_info": {
   "codemirror_mode": {
    "name": "ipython",
    "version": 3
   },
   "file_extension": ".py",
   "mimetype": "text/x-python",
   "name": "python",
   "nbconvert_exporter": "python",
   "pygments_lexer": "ipython3",
   "version": "3.7.2"
  }
 },
 "nbformat": 4,
 "nbformat_minor": 2
}
